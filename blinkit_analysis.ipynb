{
  "nbformat": 4,
  "nbformat_minor": 0,
  "metadata": {
    "colab": {
      "provenance": [],
      "authorship_tag": "ABX9TyMfvbhKV6WvcAou8Tms7wG5",
      "include_colab_link": true
    },
    "kernelspec": {
      "name": "python3",
      "display_name": "Python 3"
    },
    "language_info": {
      "name": "python"
    }
  },
  "cells": [
    {
      "cell_type": "markdown",
      "metadata": {
        "id": "view-in-github",
        "colab_type": "text"
      },
      "source": [
        "<a href=\"https://colab.research.google.com/github/bhupeshks21/projects/blob/main/blinkit_analysis.ipynb\" target=\"_parent\"><img src=\"https://colab.research.google.com/assets/colab-badge.svg\" alt=\"Open In Colab\"/></a>"
      ]
    },
    {
      "cell_type": "code",
      "source": [
        "# @markdown BLinkit Analysis\n",
        "# @markdown importing librarires"
      ],
      "metadata": {
        "id": "tj4iy49Sjm6Q"
      },
      "execution_count": null,
      "outputs": []
    },
    {
      "cell_type": "code",
      "execution_count": null,
      "metadata": {
        "id": "RaOt85ENgxQe"
      },
      "outputs": [],
      "source": [
        "import numpy as np\n",
        "import pandas as pd\n",
        "import matplotlib.pyplot as plt\n",
        "import seaborn as sns\n"
      ]
    },
    {
      "cell_type": "code",
      "source": [
        "# @title raw data\n",
        "df=pd.read_csv(\"/content/blinkit_data.csv\")"
      ],
      "metadata": {
        "id": "FKUyo2aekK_W"
      },
      "execution_count": null,
      "outputs": []
    },
    {
      "cell_type": "code",
      "source": [
        "# @title sample data\n",
        "df.head(10)"
      ],
      "metadata": {
        "collapsed": true,
        "id": "l5GKG0ismf9n"
      },
      "execution_count": null,
      "outputs": []
    },
    {
      "cell_type": "code",
      "source": [
        "df.shape"
      ],
      "metadata": {
        "id": "RHn7JFTvnI2l"
      },
      "execution_count": null,
      "outputs": []
    },
    {
      "cell_type": "code",
      "source": [
        "# @title data field\n",
        "df.columns"
      ],
      "metadata": {
        "collapsed": true,
        "id": "vlo7fwKZoGN2"
      },
      "execution_count": null,
      "outputs": []
    },
    {
      "cell_type": "code",
      "source": [
        "df.dtypes"
      ],
      "metadata": {
        "collapsed": true,
        "id": "KLisuV-YoYcu"
      },
      "execution_count": null,
      "outputs": []
    },
    {
      "cell_type": "code",
      "source": [
        "# @title cleaning\n",
        "print(df['Item Fat Content'].unique())\n"
      ],
      "metadata": {
        "id": "l1mhu20-okIt"
      },
      "execution_count": null,
      "outputs": []
    },
    {
      "cell_type": "code",
      "source": [
        "df['Item Fat Content']=df['Item Fat Content'].replace({'LF': 'Low Fat','low fat' : 'Low Fat' ,'reg':  'Regular'})"
      ],
      "metadata": {
        "id": "EkvBw5Egqt57"
      },
      "execution_count": null,
      "outputs": []
    },
    {
      "cell_type": "code",
      "source": [
        "# @title Business Requirements\n",
        "# total sales\n",
        "total_sales =df['Sales'].sum()\n",
        "avg_sales =df['Sales'].mean()\n",
        "#nof od items sales\n",
        "no_of_items_sold=df['Sales'].count()\n",
        "#Average_rating\n",
        "avg_ratings=df['Rating'].mean()\n",
        "\n",
        "print(f\"Total Sales : ${total_sales:,.0f}\")\n",
        "print(f\"avg_sales  : {avg_sales:,.0f}\")\n",
        "print(f\"no_of_items_sold : {no_of_items_sold:,.0f}\")\n",
        "print(f\"avg_rating : {avg_ratings:,.1f}\")"
      ],
      "metadata": {
        "collapsed": true,
        "id": "5vuPZo6Cr_6R"
      },
      "execution_count": null,
      "outputs": []
    },
    {
      "cell_type": "code",
      "source": [
        "# @title Chart requirememt\n",
        "\n",
        "sales_by_fat=df.groupby('Item Fat Content')['Sales'].sum()\n",
        "plt.pie(sales_by_fat,labels=sales_by_fat.index,\n",
        "        autopct = '%.1f%%',\n",
        "        startangle=90)\n",
        "plt.title('sales by fat content')\n",
        "plt.axis('equal')\n",
        "plt.show()"
      ],
      "metadata": {
        "collapsed": true,
        "id": "GgiSNWbNymgo"
      },
      "execution_count": null,
      "outputs": []
    },
    {
      "cell_type": "code",
      "source": [
        "sales_by_type = df.groupby('Item Type')['Sales'].sum().sort_values(ascending=False)\n",
        "\n",
        "plt.figure(figsize=(10, 6))\n",
        "bars = plt.bar(sales_by_type.index, sales_by_type.values)\n",
        "\n",
        "plt.xticks(rotation=-90)\n",
        "plt.xlabel('Item Type')\n",
        "plt.ylabel('Total Sales')\n",
        "plt.title('Total Sales by Item Type')\n",
        "\n",
        "for bar in bars:\n",
        "    plt.text(bar.get_x() + bar.get_width() / 2, bar.get_height(),\n",
        "    f'{bar.get_height():.0f}', ha='center', va='bottom', fontsize=8)\n",
        "\n",
        "plt.tight_layout()\n",
        "plt.show()"
      ],
      "metadata": {
        "collapsed": true,
        "id": "cLpVSYFj3R1X"
      },
      "execution_count": null,
      "outputs": []
    },
    {
      "cell_type": "code",
      "source": [
        "grouped = df.groupby(['Outlet Location Type', 'Item Fat Content'])['Sales'].sum().unstack()\n",
        "grouped = grouped[['Regular', 'Low Fat']]\n",
        "ax = grouped.plot(kind='bar', figsize=(8, 5), title='Outlet Tier by Item Fat Content')\n",
        "plt.xlabel('Outlet Location Tier')\n",
        "plt.ylabel('Total Sales')\n",
        "plt.legend(title='Item Fat Content')\n",
        "plt.tight_layout()\n",
        "plt.show()"
      ],
      "metadata": {
        "collapsed": true,
        "id": "Ayp2OJno4nvA"
      },
      "execution_count": null,
      "outputs": []
    },
    {
      "cell_type": "code",
      "source": [
        "sales_by_year = df.groupby('Outlet Establishment Year')['Sales'].sum().sort_index()\n",
        "\n",
        "plt.figure(figsize=(9,5))\n",
        "plt.plot(sales_by_year.index, sales_by_year.values, marker='o', linestyle='-')\n",
        "\n",
        "plt.xlabel('Outlet Establishment Year')\n",
        "plt.ylabel('Total Sales')\n",
        "plt.title('Outlet Establishment')\n",
        "\n",
        "for x, y in zip(sales_by_year.index, sales_by_year.values):\n",
        "    plt.text(x, y, f'{y:,.0f}', ha='center', va='bottom', fontsize=8)\n",
        "\n",
        "plt.tight_layout()\n",
        "plt.show()"
      ],
      "metadata": {
        "id": "gfJIo_dJ4zc3"
      },
      "execution_count": null,
      "outputs": []
    }
  ]
}